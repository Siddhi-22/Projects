{
  "nbformat": 4,
  "nbformat_minor": 0,
  "metadata": {
    "colab": {
      "provenance": [],
      "authorship_tag": "ABX9TyOfTRM1easB9r3sKlNrO6B5",
      "include_colab_link": true
    },
    "kernelspec": {
      "name": "python3",
      "display_name": "Python 3"
    },
    "language_info": {
      "name": "python"
    }
  },
  "cells": [
    {
      "cell_type": "markdown",
      "metadata": {
        "id": "view-in-github",
        "colab_type": "text"
      },
      "source": [
        "<a href=\"https://colab.research.google.com/github/Siddhi-22/Projects/blob/main/Finalproject.ipynb\" target=\"_parent\"><img src=\"https://colab.research.google.com/assets/colab-badge.svg\" alt=\"Open In Colab\"/></a>"
      ]
    },
    {
      "cell_type": "code",
      "execution_count": null,
      "metadata": {
        "colab": {
          "base_uri": "https://localhost:8080/",
          "height": 522
        },
        "id": "BXiYz65hTBlO",
        "outputId": "0bb833fc-7098-42c3-8106-81d5e82ccb81"
      },
      "outputs": [
        {
          "output_type": "stream",
          "name": "stdout",
          "text": [
            "              precision    recall  f1-score   support\n",
            "\n",
            "           0       1.00      0.98      0.99        55\n",
            "           1       0.95      1.00      0.98        61\n",
            "           2       0.98      1.00      0.99        48\n",
            "           3       0.98      0.91      0.94        45\n",
            "           4       0.96      0.98      0.97        56\n",
            "           5       0.98      0.96      0.97        52\n",
            "           6       0.98      0.98      0.98        60\n",
            "           7       0.95      1.00      0.97        52\n",
            "           8       0.91      0.89      0.90        56\n",
            "           9       0.96      0.93      0.94        55\n",
            "\n",
            "    accuracy                           0.96       540\n",
            "   macro avg       0.97      0.96      0.96       540\n",
            "weighted avg       0.97      0.96      0.96       540\n",
            "\n"
          ]
        },
        {
          "output_type": "display_data",
          "data": {
            "text/plain": [
              "<Figure size 1000x300 with 4 Axes>"
            ],
            "image/png": "[encoded data removed]"
          },
          "metadata": {}
        }
      ],
      "source": [
        "# HAND WRITTTEN DIGITAL PREDICTION -- CLASSIFICATION ANALYSIS\n",
        "\n",
        "\n",
        "# The digits datasets consists of 8x8 pixel images of digits. The images of the dataset\n",
        "# stores 8x8 arrays of grayscale values for each image.\n",
        "# The target attribute of the dataset stores the digit each image represents\n",
        "\n",
        "# Import Library\n",
        "#---------------------------\n",
        "\n",
        "import pandas as pd\n",
        "import numpy as np\n",
        "import matplotlib.pyplot as plt\n",
        "\n",
        "\n",
        "# Import data\n",
        "#-----------------------------\n",
        "\n",
        "from sklearn.datasets import load_digits\n",
        "\n",
        "df = load_digits()\n",
        "\n",
        "_, axes = plt.subplots(nrows=1, ncols=4, figsize=(10,3))\n",
        "for ax, image, label in zip (axes, df.images, df.target):\n",
        "  ax.set_axis_off()\n",
        "  ax.imshow(image, cmap=plt.cm.gray_r, interpolation=\"nearest\")\n",
        "  ax.set_title(\"Training %i\" % label)\n",
        "\n",
        "\n",
        "# Data Preprocessing\n",
        "#--------------------------------\n",
        "\n",
        "df.images.shape\n",
        "df.images[0]\n",
        "df.images[0].shape\n",
        "len(df.images)\n",
        "\n",
        "n_samples = len(df.images)\n",
        "data = df.images.reshape((n_samples, -1))\n",
        "\n",
        "data[0]\n",
        "data[0].shape\n",
        "data.shape\n",
        "\n",
        "\n",
        "\n",
        "# Scaling Image Data\n",
        "#---------------------------------\n",
        "\n",
        "data.min()\n",
        "data.max()\n",
        "data = data/16\n",
        "data.min()\n",
        "data.max()\n",
        "data[0]\n",
        "\n",
        "\n",
        "\n",
        "# Train test split data\n",
        "#---------------------------------\n",
        "\n",
        "from sklearn.model_selection import train_test_split\n",
        "X_train, X_test, Y_train, Y_test = train_test_split(data, df.target, test_size=0.3)\n",
        "X_train.shape, X_test.shape, Y_train.shape, Y_test.shape\n",
        "\n",
        "\n",
        "\n",
        "# Random forest Model\n",
        "#--------------------------------\n",
        "\n",
        "from sklearn.ensemble import RandomForestClassifier\n",
        "rf = RandomForestClassifier()\n",
        "rf.fit(X_train, Y_train)\n",
        "\n",
        "\n",
        "\n",
        "# Predict Data\n",
        "#------------------------------\n",
        "\n",
        "Y_pred = rf.predict(X_test)\n",
        "Y_pred\n",
        "\n",
        "\n",
        "# Model Accuracy\n",
        "#-------------------------\n",
        "from sklearn.metrics import confusion_matrix, classification_report\n",
        "confusion_matrix(Y_test, Y_pred)\n",
        "print(classification_report(Y_test, Y_pred))"
      ]
    }
  ]
}